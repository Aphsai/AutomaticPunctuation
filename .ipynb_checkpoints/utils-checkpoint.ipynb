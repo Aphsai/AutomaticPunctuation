{
 "cells": [
  {
   "cell_type": "code",
   "execution_count": 103,
   "metadata": {},
   "outputs": [],
   "source": [
    "import os\n",
    "import numpy as np\n",
    "import pandas as pd\n",
    "import tensorflow as tf\n",
    "\n",
    "from six.moves import cPickle"
   ]
  },
  {
   "cell_type": "code",
   "execution_count": 71,
   "metadata": {},
   "outputs": [],
   "source": [
    "#Let's define some parameters for the program\n",
    "#Directories\n",
    "log_dir = 'logs'\n",
    "save_dir = 'save'\n",
    "#input\n",
    "input = 'input.txt'\n",
    "#model parameters\n",
    "rnn_size = 256\n",
    "num_layers = 2\n",
    "model = 'lstm'\n",
    "train_size = 0.9\n",
    "test_size = 0.1\n",
    "batch_size = 30\n",
    "seq_length = 300\n",
    "num_epochs = 25\n",
    "save_every = 100000\n",
    "grad_clip = 5.\n",
    "learning_rate = 0.2 / 100\n",
    "decay_rate = 0.97\n",
    "gpu_mem = 0.666\n",
    "init_from = None"
   ]
  },
  {
   "cell_type": "code",
   "execution_count": 47,
   "metadata": {},
   "outputs": [
    {
     "name": "stdout",
     "output_type": "stream",
     "text": [
      "Count of Monte Cristo has 2617267 characters, with 99 unique characters.\n"
     ]
    }
   ],
   "source": [
    "data_file = open(input, 'r').read()\n",
    "tensor_file = os.path.join(\"data.npy\")\n",
    "chars = list(set(data_file))\n",
    "data_size, vocab_size = len(data_file), len(chars)\n",
    "\n",
    "print(\"Count of Monte Cristo has %d characters, with %d unique characters.\" % (data_size, vocab_size))"
   ]
  },
  {
   "cell_type": "code",
   "execution_count": 109,
   "metadata": {},
   "outputs": [
    {
     "name": "stdout",
     "output_type": "stream",
     "text": [
      "{'ï': 0, 'i': 1, 'C': 2, 'x': 3, 'T': 4, '1': 5, 'J': 6, '”': 7, ' ': 8, 'n': 9, '8': 10, '3': 11, 'é': 12, 'M': 13, 'y': 14, 'w': 15, 'g': 16, 'Z': 17, 'h': 18, 'î': 19, 'X': 20, 'E': 21, '6': 22, 'Q': 23, 'f': 24, '?': 25, '†': 26, '7': 27, '2': 28, 'P': 29, '5': 30, 'a': 31, 'è': 32, 'A': 33, 'k': 34, 'í': 35, '-': 36, 'æ': 37, 'S': 38, 'ô': 39, 'â': 40, '&': 41, 'ç': 42, '!': 43, 'U': 44, 'm': 45, '‘': 46, ';': 47, 'D': 48, ':': 49, 'ë': 50, 'c': 51, 'b': 52, '0': 53, 'F': 54, 'r': 55, 'ü': 56, 'u': 57, 't': 58, 'V': 59, 'B': 60, 'K': 61, 'œ': 62, ']': 63, 'd': 64, '(': 65, ')': 66, 'G': 67, 'É': 68, ',': 69, 'L': 70, 'Æ': 71, '.': 72, '“': 73, 'H': 74, 'Œ': 75, 'I': 76, 's': 77, 'q': 78, 'ê': 79, 'N': 80, 'p': 81, 'Y': 82, '4': 83, 'R': 84, '\\n': 85, 'v': 86, 'O': 87, 'l': 88, 'j': 89, '9': 90, 'o': 91, 'e': 92, 'à': 93, '[': 94, '’': 95, '—': 96, 'z': 97, 'W': 98, '': 99}\n",
      "{0: 'ï', 1: 'i', 2: 'C', 3: 'x', 4: 'T', 5: '1', 6: 'J', 7: '”', 8: ' ', 9: 'n', 10: '8', 11: '3', 12: 'é', 13: 'M', 14: 'y', 15: 'w', 16: 'g', 17: 'Z', 18: 'h', 19: 'î', 20: 'X', 21: 'E', 22: '6', 23: 'Q', 24: 'f', 25: '?', 26: '†', 27: '7', 28: '2', 29: 'P', 30: '5', 31: 'a', 32: 'è', 33: 'A', 34: 'k', 35: 'í', 36: '-', 37: 'æ', 38: 'S', 39: 'ô', 40: 'â', 41: '&', 42: 'ç', 43: '!', 44: 'U', 45: 'm', 46: '‘', 47: ';', 48: 'D', 49: ':', 50: 'ë', 51: 'c', 52: 'b', 53: '0', 54: 'F', 55: 'r', 56: 'ü', 57: 'u', 58: 't', 59: 'V', 60: 'B', 61: 'K', 62: 'œ', 63: ']', 64: 'd', 65: '(', 66: ')', 67: 'G', 68: 'É', 69: ',', 70: 'L', 71: 'Æ', 72: '.', 73: '“', 74: 'H', 75: 'Œ', 76: 'I', 77: 's', 78: 'q', 79: 'ê', 80: 'N', 81: 'p', 82: 'Y', 83: '4', 84: 'R', 85: '\\n', 86: 'v', 87: 'O', 88: 'l', 89: 'j', 90: '9', 91: 'o', 92: 'e', 93: 'à', 94: '[', 95: '’', 96: '—', 97: 'z', 98: 'W', 99: ''}\n"
     ]
    }
   ],
   "source": [
    "#Helps to convert our characters to integers in order to format our data into a vector format.\n",
    "char_to_integer = { ch: i for i, ch in enumerate(chars)}\n",
    "integer_to_char = { i: ch for i, ch in enumerate(chars)}\n",
    "\n",
    "#Append no character to dictionary\n",
    "char_to_integer[''] = len(char_to_integer)\n",
    "integer_to_char[len(integer_to_char)] = ''\n",
    "#This is our mapping from unique characters to integers\n",
    "print(char_to_integer)\n",
    "print(integer_to_char)"
   ]
  },
  {
   "cell_type": "code",
   "execution_count": 93,
   "metadata": {},
   "outputs": [
    {
     "name": "stdout",
     "output_type": "stream",
     "text": [
      "Tensor is:  [59 87 70 ... 43 95  7]\n",
      "Shape:  (2617267,)\n",
      "Shape:  (2617267,)\n"
     ]
    }
   ],
   "source": [
    "tensor = np.array(list(map(char_to_integer.get, data_file)))\n",
    "char_tensor = np.array(list(data_file))\n",
    "np.save(tensor_file, tensor)\n",
    "\n",
    "print('Tensor is: ', tensor)\n",
    "print('Shape of mapped tensor: ', np.shape(tensor))\n",
    "print('Shape of char tensor: ', np.shape(char_tensor))"
   ]
  },
  {
   "cell_type": "code",
   "execution_count": 74,
   "metadata": {},
   "outputs": [
    {
     "name": "stdout",
     "output_type": "stream",
     "text": [
      "Number of batches: 261\n"
     ]
    }
   ],
   "source": [
    "num_batches = int((tensor.size * train_size) / (batch_size * seq_length))\n",
    "print(\"Number of batches:\", num_batches)"
   ]
  },
  {
   "cell_type": "code",
   "execution_count": 94,
   "metadata": {},
   "outputs": [
    {
     "name": "stdout",
     "output_type": "stream",
     "text": [
      "Shape of new tensor is:  (2349000,)\n"
     ]
    }
   ],
   "source": [
    "tensor = tensor[:num_batches * batch_size * seq_length]\n",
    "char_tensor = char_tensor[:num_batches * batch_size * seq_length]\n",
    "print(\"Shape of new tensor is: \", np.shape(tensor))"
   ]
  },
  {
   "cell_type": "code",
   "execution_count": 106,
   "metadata": {},
   "outputs": [],
   "source": [
    "xdata = tensor\n",
    "ydata = tensor[char_tensor]\n",
    "\n",
    "\n",
    "#Create batches\n",
    "x_batches = np.split(xdata.reshape(batch_size, -1), num_batches, 1)\n",
    "y_batches = np.split(ydata.reshape(batch_size, -1), num_batches, 1)\n",
    "\n",
    "#Pointer for batches\n",
    "pointer = 0\n",
    "\n",
    "#Save to file\n",
    "with open (os.path.join(save_dir, 'char_dict.pkl'), 'wb') as f:\n",
    "    cPickle.dump((integer_to_char), f)"
   ]
  },
  {
   "cell_type": "code",
   "execution_count": null,
   "metadata": {},
   "outputs": [],
   "source": []
  }
 ],
 "metadata": {
  "kernelspec": {
   "display_name": "Python 3",
   "language": "python",
   "name": "python3"
  },
  "language_info": {
   "codemirror_mode": {
    "name": "ipython",
    "version": 3
   },
   "file_extension": ".py",
   "mimetype": "text/x-python",
   "name": "python",
   "nbconvert_exporter": "python",
   "pygments_lexer": "ipython3",
   "version": "3.6.4"
  }
 },
 "nbformat": 4,
 "nbformat_minor": 2
}
